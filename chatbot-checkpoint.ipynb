{
 "cells": [
  {
   "cell_type": "code",
   "execution_count": null,
   "id": "72c0ea89",
   "metadata": {},
   "outputs": [],
   "source": [
    "import random\n",
    "def chatbot(user_input):\n",
    "    user_input = user_input.lower()\n",
    "    responses = {\n",
    "        \"hello\": [\"Hello there! How may I be of service today?\", \"Greetings! How can I assist you?\"],\n",
    "        \"how are you\": [\"I'm just a computer program here to help you out.\", \"I don't have feelings, but thanks for asking!\"],\n",
    "        \"goodbye\": [\"Goodbye! Have a fantastic day!\", \"See you later! Feel free to return if you have more questions.\"],\n",
    "        \"name\": [\"You can refer to me as your personalized chatbot.\", \"Feel free to call me 'ei'.\"],\n",
    "        \"help\": [\"Certainly, I'm here to assist with various topics. What can I help you with today?\", \"How may I assist you today?\"],\n",
    "        \"age\": [\"I don't have an age, as I'm just a computer program.\", \"I'm ageless, but I'm here to provide you with information.\"],\n",
    "        \"random fact\": [\"Here's an interesting fact: Honeybees are the only insects that produce food consumed by humans.\", \"Sure, here's a random fact: The Earth is estimated to be around 4.5 billion years old.\"],\n",
    "        \"default\": [\"I'm not entirely sure I understand. Could you please rephrase your question?\", \"I'm sorry, I didn't quite catch that. Could you try asking it differently?\"]\n",
    "    } \n",
    "    if user_input in responses:\n",
    "        response = random.choice(responses[user_input]) \n",
    "    else:\n",
    "        response = random.choice(responses[\"default\"])\n",
    "    return response\n",
    "print(\"Chatbot: Type 'exit' to end the conversation.\")\n",
    "while True:\n",
    "    user_input = input(\"You: \")\n",
    "    if user_input.lower() == \"exit\":\n",
    "        print(\"Chatbot: Farewell!\")\n",
    "        break\n",
    "    response = chatbot(user_input)\n",
    "    print(\"Chatbot:\", response)\n",
    "\n"
   ]
  },
  {
   "cell_type": "code",
   "execution_count": null,
   "id": "159f58e2",
   "metadata": {},
   "outputs": [],
   "source": []
  }
 ],
 "metadata": {
  "kernelspec": {
   "display_name": "Python 3 (ipykernel)",
   "language": "python",
   "name": "python3"
  },
  "language_info": {
   "codemirror_mode": {
    "name": "ipython",
    "version": 3
   },
   "file_extension": ".py",
   "mimetype": "text/x-python",
   "name": "python",
   "nbconvert_exporter": "python",
   "pygments_lexer": "ipython3",
   "version": "3.9.13"
  }
 },
 "nbformat": 4,
 "nbformat_minor": 5
}
